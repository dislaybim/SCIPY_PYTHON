{
  "nbformat": 4,
  "nbformat_minor": 0,
  "metadata": {
    "colab": {
      "provenance": [],
      "authorship_tag": "ABX9TyMlN9XZwqPX9Tjl7cTg/0R4",
      "include_colab_link": true
    },
    "kernelspec": {
      "name": "python3",
      "display_name": "Python 3"
    },
    "language_info": {
      "name": "python"
    }
  },
  "cells": [
    {
      "cell_type": "markdown",
      "metadata": {
        "id": "view-in-github",
        "colab_type": "text"
      },
      "source": [
        "<a href=\"https://colab.research.google.com/github/dislaybim/SCIPY_PYTHON/blob/main/Scipy_python.ipynb\" target=\"_parent\"><img src=\"https://colab.research.google.com/assets/colab-badge.svg\" alt=\"Open In Colab\"/></a>"
      ]
    },
    {
      "cell_type": "markdown",
      "source": [
        "Claro! O módulo `scipy.integrate` é usado para realizar integração numérica em Python. Vou fornecer um tutorial detalhado sobre como usar as principais funcionalidades deste módulo.\n",
        "\n",
        "**Passo 1: Importando o SciPy e o módulo de integração**\n",
        "\n",
        "Primeiro, você precisa importar o SciPy e o módulo `scipy.integrate`:\n",
        "\n",
        "```python\n",
        "import scipy\n",
        "from scipy import integrate\n",
        "```\n",
        "\n",
        "**Passo 2: Funções para Integração Numérica**\n",
        "\n",
        "O módulo `scipy.integrate` fornece várias funções para integração numérica. As duas funções principais são `quad` e `trapz`.\n",
        "\n",
        "- `quad`: Esta função é usada para calcular a integral definida de uma função de uma variável. Ela é mais precisa do que a regra do trapézio e pode lidar com funções mais complexas.\n",
        "\n",
        "- `trapz`: Esta função realiza a integração numérica usando a regra do trapézio. É adequada para funções simples e conjuntos de dados.\n",
        "\n",
        "**Passo 3: Definindo a Função a ser Integrada**\n",
        "\n",
        "Vamos começar definindo uma função que desejamos integrar. Vamos usar a função \\(f(x) = x^2\\) como exemplo:\n",
        "\n",
        "```python\n",
        "def func(x):\n",
        "    return x**2\n",
        "```\n",
        "\n",
        "**Passo 4: Calculando a Integral Definida**\n",
        "\n",
        "Agora, vamos usar a função `quad` para calcular a integral definida da nossa função no intervalo de 0 a 1:\n",
        "\n",
        "```python\n",
        "result, error = integrate.quad(func, 0, 1)\n",
        "print(\"Resultado da integração:\", result)\n",
        "print(\"Erro estimado:\", error)\n",
        "```\n",
        "\n",
        "O resultado da integração e o erro estimado serão impressos.\n",
        "\n",
        "**Passo 5: Integração Numérica com a Regra do Trapézio**\n",
        "\n",
        "Se você preferir usar a regra do trapézio, pode fazê-lo usando a função `trapz`. Primeiro, você precisa criar um conjunto de dados. Vamos criar um exemplo simples:\n",
        "\n",
        "```python\n",
        "import numpy as np\n",
        "\n",
        "x = np.linspace(0, 1, 100)  # Cria 100 pontos no intervalo de 0 a 1\n",
        "y = func(x)  # Calcula os valores da função para cada ponto\n",
        "```\n",
        "\n",
        "Agora, podemos usar a função `trapz` para realizar a integração numérica:\n",
        "\n",
        "```python\n",
        "result_trapz = integrate.trapz(y, x)\n",
        "print(\"Resultado da integração usando a regra do trapézio:\", result_trapz)\n",
        "```\n",
        "\n",
        "**Passo 6: Outros Tipos de Integração**\n",
        "\n",
        "Além do `quad` e do `trapz`, o módulo `scipy.integrate` fornece outras funções para integração numérica, como `simps` para a regra de Simpson e `romberg` para a integração de Romberg. Essas funções são úteis para problemas mais complexos e conjuntos de dados irregulares.\n",
        "\n",
        "**Passo 7: Aplicação em Problemas do Mundo Real**\n",
        "\n",
        "Integração numérica é útil para resolver problemas do mundo real, como cálculos de áreas sob curvas, cálculos de volumes, análises de probabilidades e muito mais. Certifique-se de aplicar essas técnicas em problemas práticos para ganhar experiência.\n",
        "\n",
        "Este tutorial fornece uma introdução básica à integração numérica com o módulo `scipy.integrate`. À medida que você se familiariza com as funções e ganha experiência, você poderá resolver uma variedade de problemas complexos que envolvem integração numérica."
      ],
      "metadata": {
        "id": "eOkl2eFBVNVi"
      }
    },
    {
      "cell_type": "code",
      "source": [
        "import scipy.integrate as integrate\n",
        "def fun(x):\n",
        "  return (x**2)\n",
        "\n",
        "resultado=integrate.quad(fun,0,1)\n",
        "print(resultado)"
      ],
      "metadata": {
        "colab": {
          "base_uri": "https://localhost:8080/"
        },
        "id": "p6LOSpCOVUxQ",
        "outputId": "3c230443-4265-4330-8aaa-ea341c711407"
      },
      "execution_count": null,
      "outputs": [
        {
          "output_type": "stream",
          "name": "stdout",
          "text": [
            "(0.33333333333333337, 3.700743415417189e-15)\n"
          ]
        }
      ]
    },
    {
      "cell_type": "markdown",
      "source": [
        "Peço desculpas pela superficialidade. Vamos aprofundar mais no uso do módulo `scipy.integrate` com exemplos mais detalhados.\n",
        "\n",
        "**Passo 1: Importando o SciPy e o módulo de integração**\n",
        "\n",
        "Já vimos como importar o SciPy e o módulo `scipy.integrate`. Vamos continuar com essa importação:\n",
        "\n",
        "```python\n",
        "import scipy\n",
        "from scipy import integrate\n",
        "```\n",
        "\n",
        "**Passo 2: Definindo a Função a ser Integrada**\n",
        "\n",
        "Vamos definir uma função mais complexa para ilustrar melhor o processo de integração numérica. Vamos usar a função \\(f(x) = e^{-x^2}\\) como exemplo:\n",
        "\n",
        "```python\n",
        "import numpy as np\n",
        "\n",
        "def func(x):\n",
        "    return np.exp(-x**2)\n",
        "```\n",
        "\n",
        "**Passo 3: Calculando a Integral Definida**\n",
        "\n",
        "Vamos calcular a integral definida da função \\(f(x) = e^{-x^2}\\) no intervalo de \\(-\\infty\\) a \\(+\\infty\\). Para fazer isso, usaremos a função `quad` e a biblioteca `numpy` para definir os limites como `-np.inf` e `np.inf`:\n",
        "\n",
        "```python\n",
        "result, error = integrate.quad(func, -np.inf, np.inf)\n",
        "print(\"Resultado da integração:\", result)\n",
        "print(\"Erro estimado:\", error)\n",
        "```\n",
        "\n",
        "Isso calculará a integral da função gaussiana em toda a extensão dos números reais.\n",
        "\n",
        "**Passo 4: Integração Numérica com a Regra do Trapézio**\n",
        "\n",
        "Agora, vamos calcular a integral definida da mesma função usando a regra do trapézio. Primeiro, definimos os limites do intervalo:\n",
        "\n",
        "```python\n",
        "a = -5\n",
        "b = 5\n",
        "```\n",
        "\n",
        "Em seguida, criamos um conjunto de pontos e calculamos os valores da função nesses pontos:\n",
        "\n",
        "```python\n",
        "x = np.linspace(a, b, 100)  # Cria 100 pontos no intervalo de a a b\n",
        "y = func(x)  # Calcula os valores da função para cada ponto\n",
        "```\n",
        "\n",
        "Finalmente, usamos a função `trapz` para realizar a integração numérica:\n",
        "\n",
        "```python\n",
        "result_trapz = integrate.trapz(y, x)\n",
        "print(\"Resultado da integração usando a regra do trapézio:\", result_trapz)\n",
        "```\n",
        "\n",
        "**Passo 5: Integração de Romberg**\n",
        "\n",
        "A integração de Romberg é uma técnica de integração numérica que melhora a precisão da integração ao refinar a grade de pontos. Vamos calcular a integral da função \\(f(x) = \\frac{1}{1 + x^2}\\) usando a integração de Romberg:\n",
        "\n",
        "```python\n",
        "result_romberg = integrate.romberg(func, a, b)\n",
        "print(\"Resultado da integração usando a integração de Romberg:\", result_romberg)\n",
        "```\n",
        "\n",
        "Esses são exemplos mais detalhados de como usar o módulo `scipy.integrate` para realizar diferentes tipos de integração numérica. Lembre-se de que a escolha da função de integração depende da complexidade do problema e dos requisitos de precisão. O SciPy oferece uma variedade de opções para lidar com diferentes situações de integração numérica. Experimente com funções e intervalos diferentes para ganhar experiência."
      ],
      "metadata": {
        "id": "pgIF6xa0aZqL"
      }
    },
    {
      "cell_type": "code",
      "source": [
        "import numpy as np\n",
        "\n",
        "def fun(x):\n",
        "    return (-x**2)\n",
        "\n",
        "x = np.linspace(0, 1, 100)  # Crie um conjunto de valores de x\n",
        "y = fun(x)  # Calcule os valores de fun(x) para cada x\n",
        "doido = np.exp(y)  # Aplique a função exponencial aos valores calculados de fun(x)\n",
        "\n",
        "print(doido)\n"
      ],
      "metadata": {
        "colab": {
          "base_uri": "https://localhost:8080/"
        },
        "id": "rSaLBd6tadc2",
        "outputId": "b076b9ce-619d-48a4-d036-0731c8508374"
      },
      "execution_count": null,
      "outputs": [
        {
          "output_type": "stream",
          "name": "stdout",
          "text": [
            "[1.         0.99989797 0.99959196 0.99908215 0.99836885 0.99745249\n",
            " 0.99633364 0.99501299 0.99349133 0.99176959 0.98984883 0.98773022\n",
            " 0.98541503 0.98290467 0.98020067 0.97730466 0.97421839 0.97094371\n",
            " 0.96748259 0.96383711 0.96000944 0.95600187 0.95181678 0.94745666\n",
            " 0.94292408 0.9382217  0.9333523  0.92831871 0.92312388 0.91777082\n",
            " 0.91226262 0.90660247 0.90079359 0.89483932 0.88874302 0.88250816\n",
            " 0.87613823 0.8696368  0.86300749 0.85625398 0.84937997 0.84238922\n",
            " 0.83528555 0.82807279 0.82075481 0.81333551 0.80581883 0.79820872\n",
            " 0.79050915 0.7827241  0.7748576  0.76691364 0.75889624 0.75080943\n",
            " 0.74265724 0.73444367 0.72617275 0.71784846 0.70947481 0.70105577\n",
            " 0.69259528 0.68409729 0.67556569 0.66700437 0.65841718 0.64980792\n",
            " 0.64118039 0.63253831 0.62388539 0.61522529 0.6065616  0.5978979\n",
            " 0.5892377  0.58058444 0.57194154 0.56331234 0.55470013 0.54610814\n",
            " 0.53753953 0.5289974  0.5204848  0.51200469 0.50355998 0.4951535\n",
            " 0.48678802 0.47846622 0.47019072 0.46196408 0.45378877 0.44566718\n",
            " 0.43760164 0.42959439 0.42164762 0.4137634  0.40594376 0.39819064\n",
            " 0.3905059  0.38289132 0.37534863 0.36787944]\n"
          ]
        }
      ]
    },
    {
      "cell_type": "code",
      "source": [
        "import numpy as np\n",
        "\n",
        "# Definindo as matrizes A e B\n",
        "A = np.array([[1, 2, 3],\n",
        "              [4, 5, 6],\n",
        "              [7, 8, 9]])\n",
        "\n",
        "B = np.array([[9, 8, 7],\n",
        "              [6, 5, 4],\n",
        "              [3, 2, 1]])\n",
        "\n",
        "# Calculando o produto das matrizes A e B\n",
        "C = np.dot(A, B)\n",
        "\n",
        "# Exibindo a matriz resultante C\n",
        "print(\"Matriz resultante C:\")\n",
        "print(C)\n"
      ],
      "metadata": {
        "colab": {
          "base_uri": "https://localhost:8080/"
        },
        "id": "KfK6EUo8dsWL",
        "outputId": "769050a4-37f7-4688-dcd8-40e82c4c956f"
      },
      "execution_count": null,
      "outputs": [
        {
          "output_type": "stream",
          "name": "stdout",
          "text": [
            "Matriz resultante C:\n",
            "[[ 30  24  18]\n",
            " [ 84  69  54]\n",
            " [138 114  90]]\n"
          ]
        }
      ]
    }
  ]
}